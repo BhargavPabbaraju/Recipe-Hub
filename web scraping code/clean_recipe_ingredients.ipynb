{
 "cells": [
  {
   "cell_type": "code",
   "execution_count": 11,
   "metadata": {},
   "outputs": [],
   "source": [
    "import pandas as pd\n",
    "import numpy as np"
   ]
  },
  {
   "cell_type": "code",
   "execution_count": 12,
   "metadata": {},
   "outputs": [
    {
     "data": {
      "text/html": [
       "<div>\n",
       "<style scoped>\n",
       "    .dataframe tbody tr th:only-of-type {\n",
       "        vertical-align: middle;\n",
       "    }\n",
       "\n",
       "    .dataframe tbody tr th {\n",
       "        vertical-align: top;\n",
       "    }\n",
       "\n",
       "    .dataframe thead th {\n",
       "        text-align: right;\n",
       "    }\n",
       "</style>\n",
       "<table border=\"1\" class=\"dataframe\">\n",
       "  <thead>\n",
       "    <tr style=\"text-align: right;\">\n",
       "      <th></th>\n",
       "      <th>recipe</th>\n",
       "      <th>qty</th>\n",
       "      <th>unit</th>\n",
       "      <th>name</th>\n",
       "      <th>method</th>\n",
       "    </tr>\n",
       "  </thead>\n",
       "  <tbody>\n",
       "    <tr>\n",
       "      <th>0</th>\n",
       "      <td>Vegetable Biryani</td>\n",
       "      <td>2</td>\n",
       "      <td>tablespoon</td>\n",
       "      <td>ghee</td>\n",
       "      <td>NaN</td>\n",
       "    </tr>\n",
       "    <tr>\n",
       "      <th>1</th>\n",
       "      <td>Vegetable Biryani</td>\n",
       "      <td>½</td>\n",
       "      <td>teaspoon</td>\n",
       "      <td>cumin seeds</td>\n",
       "      <td>NaN</td>\n",
       "    </tr>\n",
       "    <tr>\n",
       "      <th>2</th>\n",
       "      <td>Vegetable Biryani</td>\n",
       "      <td>1</td>\n",
       "      <td>inch</td>\n",
       "      <td>cinnamon stick</td>\n",
       "      <td>NaN</td>\n",
       "    </tr>\n",
       "    <tr>\n",
       "      <th>3</th>\n",
       "      <td>Vegetable Biryani</td>\n",
       "      <td>1</td>\n",
       "      <td>tablespoon</td>\n",
       "      <td>ginger garlic paste</td>\n",
       "      <td>NaN</td>\n",
       "    </tr>\n",
       "    <tr>\n",
       "      <th>4</th>\n",
       "      <td>Vegetable Biryani</td>\n",
       "      <td>4</td>\n",
       "      <td>cup</td>\n",
       "      <td>water</td>\n",
       "      <td>NaN</td>\n",
       "    </tr>\n",
       "  </tbody>\n",
       "</table>\n",
       "</div>"
      ],
      "text/plain": [
       "              recipe qty        unit                 name method\n",
       "0  Vegetable Biryani   2  tablespoon                 ghee    NaN\n",
       "1  Vegetable Biryani   ½    teaspoon          cumin seeds    NaN\n",
       "2  Vegetable Biryani   1        inch       cinnamon stick    NaN\n",
       "3  Vegetable Biryani   1  tablespoon  ginger garlic paste    NaN\n",
       "4  Vegetable Biryani   4         cup                water    NaN"
      ]
     },
     "execution_count": 12,
     "metadata": {},
     "output_type": "execute_result"
    }
   ],
   "source": [
    "df = pd.read_csv('recipe_ingredients.csv')\n",
    "df.head()"
   ]
  },
  {
   "cell_type": "code",
   "execution_count": 13,
   "metadata": {},
   "outputs": [
    {
     "data": {
      "text/html": [
       "<div>\n",
       "<style scoped>\n",
       "    .dataframe tbody tr th:only-of-type {\n",
       "        vertical-align: middle;\n",
       "    }\n",
       "\n",
       "    .dataframe tbody tr th {\n",
       "        vertical-align: top;\n",
       "    }\n",
       "\n",
       "    .dataframe thead th {\n",
       "        text-align: right;\n",
       "    }\n",
       "</style>\n",
       "<table border=\"1\" class=\"dataframe\">\n",
       "  <thead>\n",
       "    <tr style=\"text-align: right;\">\n",
       "      <th></th>\n",
       "      <th>Unnamed: 0</th>\n",
       "      <th>ingredient</th>\n",
       "      <th>calories</th>\n",
       "      <th>carbs</th>\n",
       "      <th>fats</th>\n",
       "      <th>protein</th>\n",
       "      <th>sugar</th>\n",
       "      <th>category</th>\n",
       "      <th>image</th>\n",
       "      <th>store_link</th>\n",
       "      <th>unit</th>\n",
       "    </tr>\n",
       "  </thead>\n",
       "  <tbody>\n",
       "    <tr>\n",
       "      <th>0</th>\n",
       "      <td>0</td>\n",
       "      <td>ghee</td>\n",
       "      <td>112.0</td>\n",
       "      <td>0.0</td>\n",
       "      <td>13.0</td>\n",
       "      <td>0.0</td>\n",
       "      <td>0.0</td>\n",
       "      <td>Butters</td>\n",
       "      <td>https://nix-tag-images.s3.amazonaws.com/2640_t...</td>\n",
       "      <td>https://www.amazon.com/gp/search?ie=UTF8&amp;camp=...</td>\n",
       "      <td>tbsp</td>\n",
       "    </tr>\n",
       "    <tr>\n",
       "      <th>1</th>\n",
       "      <td>1</td>\n",
       "      <td>cumin seeds</td>\n",
       "      <td>7.9</td>\n",
       "      <td>0.9</td>\n",
       "      <td>0.5</td>\n",
       "      <td>0.4</td>\n",
       "      <td>0.1</td>\n",
       "      <td>Seeds</td>\n",
       "      <td>https://nix-tag-images.s3.amazonaws.com/2180_t...</td>\n",
       "      <td>https://www.amazon.com/gp/search?ie=UTF8&amp;camp=...</td>\n",
       "      <td>tsp</td>\n",
       "    </tr>\n",
       "    <tr>\n",
       "      <th>2</th>\n",
       "      <td>2</td>\n",
       "      <td>cinnamon stick</td>\n",
       "      <td>3.2</td>\n",
       "      <td>1.0</td>\n",
       "      <td>0.0</td>\n",
       "      <td>0.1</td>\n",
       "      <td>0.0</td>\n",
       "      <td>Spices</td>\n",
       "      <td>https://nix-tag-images.s3.amazonaws.com/4778_t...</td>\n",
       "      <td>https://www.amazon.com/gp/search?ie=UTF8&amp;camp=...</td>\n",
       "      <td>stick</td>\n",
       "    </tr>\n",
       "    <tr>\n",
       "      <th>3</th>\n",
       "      <td>3</td>\n",
       "      <td>ginger garlic paste</td>\n",
       "      <td>61.0</td>\n",
       "      <td>3.2</td>\n",
       "      <td>5.4</td>\n",
       "      <td>0.5</td>\n",
       "      <td>0.2</td>\n",
       "      <td>Seasonings</td>\n",
       "      <td>https://d2eawub7utcl6.cloudfront.net/images/ni...</td>\n",
       "      <td>https://www.amazon.com/gp/search?ie=UTF8&amp;camp=...</td>\n",
       "      <td>tbsp</td>\n",
       "    </tr>\n",
       "    <tr>\n",
       "      <th>4</th>\n",
       "      <td>4</td>\n",
       "      <td>water</td>\n",
       "      <td>0.0</td>\n",
       "      <td>0.0</td>\n",
       "      <td>0.0</td>\n",
       "      <td>0.0</td>\n",
       "      <td>0.0</td>\n",
       "      <td>Water</td>\n",
       "      <td>https://nix-tag-images.s3.amazonaws.com/4483_t...</td>\n",
       "      <td>https://www.amazon.com/gp/search?ie=UTF8&amp;camp=...</td>\n",
       "      <td>cup</td>\n",
       "    </tr>\n",
       "  </tbody>\n",
       "</table>\n",
       "</div>"
      ],
      "text/plain": [
       "   Unnamed: 0           ingredient  calories  carbs  fats  protein  sugar  \\\n",
       "0           0                 ghee     112.0    0.0  13.0      0.0    0.0   \n",
       "1           1          cumin seeds       7.9    0.9   0.5      0.4    0.1   \n",
       "2           2       cinnamon stick       3.2    1.0   0.0      0.1    0.0   \n",
       "3           3  ginger garlic paste      61.0    3.2   5.4      0.5    0.2   \n",
       "4           4                water       0.0    0.0   0.0      0.0    0.0   \n",
       "\n",
       "     category                                              image  \\\n",
       "0     Butters  https://nix-tag-images.s3.amazonaws.com/2640_t...   \n",
       "1       Seeds  https://nix-tag-images.s3.amazonaws.com/2180_t...   \n",
       "2      Spices  https://nix-tag-images.s3.amazonaws.com/4778_t...   \n",
       "3  Seasonings  https://d2eawub7utcl6.cloudfront.net/images/ni...   \n",
       "4       Water  https://nix-tag-images.s3.amazonaws.com/4483_t...   \n",
       "\n",
       "                                          store_link   unit  \n",
       "0  https://www.amazon.com/gp/search?ie=UTF8&camp=...   tbsp  \n",
       "1  https://www.amazon.com/gp/search?ie=UTF8&camp=...    tsp  \n",
       "2  https://www.amazon.com/gp/search?ie=UTF8&camp=...  stick  \n",
       "3  https://www.amazon.com/gp/search?ie=UTF8&camp=...   tbsp  \n",
       "4  https://www.amazon.com/gp/search?ie=UTF8&camp=...    cup  "
      ]
     },
     "execution_count": 13,
     "metadata": {},
     "output_type": "execute_result"
    }
   ],
   "source": [
    "ingredients = pd.read_csv('ingredients list.csv')\n",
    "ingredients.head()"
   ]
  },
  {
   "cell_type": "code",
   "execution_count": 68,
   "metadata": {},
   "outputs": [],
   "source": [
    "df['method'] = df['method'].fillna('')"
   ]
  },
  {
   "cell_type": "code",
   "execution_count": 106,
   "metadata": {},
   "outputs": [
    {
     "data": {
      "text/plain": [
       "['peeled']"
      ]
     },
     "execution_count": 106,
     "metadata": {},
     "output_type": "execute_result"
    }
   ],
   "source": [
    "names = set(df['name'])\n",
    "ings = set(ingredients['ingredient'])\n",
    "\n",
    "[name for name in names if name not in ings]"
   ]
  },
  {
   "cell_type": "code",
   "execution_count": 105,
   "metadata": {},
   "outputs": [],
   "source": [
    "df.loc[df['name'] == 'kosher salt and pepper','name'] = 'salt'"
   ]
  },
  {
   "cell_type": "code",
   "execution_count": 101,
   "metadata": {},
   "outputs": [],
   "source": [
    "df.loc[df['name'] == 'freshly grated ginger','method'] = 'freshly grated'\n",
    "df.loc[df['name'] == 'freshly grated ginger','name'] = 'ginger'"
   ]
  },
  {
   "cell_type": "code",
   "execution_count": 98,
   "metadata": {},
   "outputs": [],
   "source": [
    "df.loc[df['name']=='skinless boneless chicken breast','method'] = 'skinless boneless halves'\n",
    "df.loc[df['name']=='skinless boneless chicken breast','name'] = 'chicken breast'"
   ]
  },
  {
   "cell_type": "code",
   "execution_count": 94,
   "metadata": {},
   "outputs": [],
   "source": [
    "df.loc[df['name']=='flaked sea salt','method'] = 'flaked , to taste'\n",
    "df.loc[df['name']=='flaked sea salt','name'] = 'sea salt'"
   ]
  },
  {
   "cell_type": "code",
   "execution_count": 91,
   "metadata": {},
   "outputs": [],
   "source": [
    "df.loc[df['name']=='boneless skinless chicken breast','method'] = 'boneless skinless'\n",
    "df.loc[df['name']=='boneless skinless chicken breast','name'] = 'chicken breast'"
   ]
  },
  {
   "cell_type": "code",
   "execution_count": 88,
   "metadata": {},
   "outputs": [],
   "source": [
    "df.loc[df['name']=='boneless','method'] = 'skinless boneless'\n",
    "df.loc[df['name']=='boneless','name'] = 'chicken thighs'"
   ]
  },
  {
   "cell_type": "code",
   "execution_count": 85,
   "metadata": {},
   "outputs": [],
   "source": [
    "df.loc[df['name']=='finely grated ginger root','method'] = 'finely grated'\n",
    "df.loc[df['name']=='finely grated ginger root','name'] = 'ginger root'"
   ]
  },
  {
   "cell_type": "code",
   "execution_count": 81,
   "metadata": {},
   "outputs": [],
   "source": [
    "df.loc[df['name']=='minced fresh ginger','method'] = 'minced fresh ' + df.loc[df['name']=='minced fresh ginger','method']\n",
    "df.loc[df['name']=='minced fresh ginger','name'] = 'ginger'"
   ]
  },
  {
   "cell_type": "code",
   "execution_count": 77,
   "metadata": {},
   "outputs": [],
   "source": [
    "df.loc[df['name']==' ginger root','name'] = 'ginger root'"
   ]
  },
  {
   "cell_type": "code",
   "execution_count": 74,
   "metadata": {},
   "outputs": [],
   "source": [
    "#df.loc[df['name']=='fresh ginger','method'] = df.loc[df['name']=='fresh ginger','method'] + ' , fresh'\n",
    "df.loc[df['name']=='fresh ginger','name'] = 'ginger'"
   ]
  },
  {
   "cell_type": "code",
   "execution_count": 61,
   "metadata": {},
   "outputs": [],
   "source": [
    "df.loc[df['name']=='salt and ground black pepper to taste','method'] = 'to taste'\n",
    "df.loc[df['name']=='salt and ground black pepper to taste','name'] = 'salt and ground black pepper'"
   ]
  },
  {
   "cell_type": "code",
   "execution_count": 56,
   "metadata": {},
   "outputs": [],
   "source": [
    "#df.loc[df['name'] == 'fresh ginger root', 'method'] =  df.loc[df['name'] == 'fresh ginger root', 'method'].apply(lambda x: x[:x.find('fresh')])\n",
    "df.loc[df['name'] == 'fresh ginger root', 'method'] = 'fresh'\n",
    "df.loc[df['name'] == 'fresh ginger root', 'name'] = 'ginger root'"
   ]
  },
  {
   "cell_type": "code",
   "execution_count": 47,
   "metadata": {},
   "outputs": [],
   "source": [
    "df.loc[df['name'] == 'cold water' ,'method'] = 'cold'\n",
    "df.loc[df['name']== 'cold water','name'] = 'water'"
   ]
  },
  {
   "cell_type": "code",
   "execution_count": 43,
   "metadata": {},
   "outputs": [],
   "source": [
    "df.loc[df['name']=='skinless' , 'name'] = 'chicken breast'"
   ]
  },
  {
   "cell_type": "code",
   "execution_count": 34,
   "metadata": {},
   "outputs": [],
   "source": [
    "\n",
    "df.loc[df['name'] == 'minced fresh ginger root', 'method'] = 'minced, fresh'\n",
    "df.loc[df['name'] == 'minced fresh ginger root', 'name'] = 'ginger root'\n"
   ]
  },
  {
   "cell_type": "code",
   "execution_count": 22,
   "metadata": {},
   "outputs": [
    {
     "name": "stderr",
     "output_type": "stream",
     "text": [
      "/var/folders/jv/dtmmy2h55y56k4xvlg2l8mn40000gn/T/ipykernel_1623/3766993821.py:1: FutureWarning: Series.replace without 'value' and with non-dict-like 'to_replace' is deprecated and will raise in a future version. Explicitly specify the new values instead.\n",
      "  df2['name'] = df2['name'].replace(['minced fresh ginger root','ginger root'])\n",
      "/var/folders/jv/dtmmy2h55y56k4xvlg2l8mn40000gn/T/ipykernel_1623/3766993821.py:1: SettingWithCopyWarning: \n",
      "A value is trying to be set on a copy of a slice from a DataFrame.\n",
      "Try using .loc[row_indexer,col_indexer] = value instead\n",
      "\n",
      "See the caveats in the documentation: https://pandas.pydata.org/pandas-docs/stable/user_guide/indexing.html#returning-a-view-versus-a-copy\n",
      "  df2['name'] = df2['name'].replace(['minced fresh ginger root','ginger root'])\n"
     ]
    }
   ],
   "source": [
    "'minced fresh ginger root','ginger root'])"
   ]
  },
  {
   "cell_type": "code",
   "execution_count": 100,
   "metadata": {},
   "outputs": [
    {
     "data": {
      "text/html": [
       "<div>\n",
       "<style scoped>\n",
       "    .dataframe tbody tr th:only-of-type {\n",
       "        vertical-align: middle;\n",
       "    }\n",
       "\n",
       "    .dataframe tbody tr th {\n",
       "        vertical-align: top;\n",
       "    }\n",
       "\n",
       "    .dataframe thead th {\n",
       "        text-align: right;\n",
       "    }\n",
       "</style>\n",
       "<table border=\"1\" class=\"dataframe\">\n",
       "  <thead>\n",
       "    <tr style=\"text-align: right;\">\n",
       "      <th></th>\n",
       "      <th>name</th>\n",
       "      <th>rating</th>\n",
       "      <th>tagline</th>\n",
       "      <th>prep_time</th>\n",
       "      <th>cook_time</th>\n",
       "      <th>cuisine</th>\n",
       "    </tr>\n",
       "  </thead>\n",
       "  <tbody>\n",
       "    <tr>\n",
       "      <th>0</th>\n",
       "      <td>Vegetable Biryani</td>\n",
       "      <td>4.5</td>\n",
       "      <td>A very tasty and interesting biryani; the colo...</td>\n",
       "      <td>35</td>\n",
       "      <td>30</td>\n",
       "      <td>indian</td>\n",
       "    </tr>\n",
       "    <tr>\n",
       "      <th>1</th>\n",
       "      <td>Curried Pork Chops and Cauliflower with Basmat...</td>\n",
       "      <td>4.4</td>\n",
       "      <td>Pork chops are flavored with curry and apple c...</td>\n",
       "      <td>20</td>\n",
       "      <td>40</td>\n",
       "      <td>indian</td>\n",
       "    </tr>\n",
       "    <tr>\n",
       "      <th>2</th>\n",
       "      <td>Slow-Cooked Chicken Biryani</td>\n",
       "      <td>4.0</td>\n",
       "      <td>This slow cooker biryani is a variation of two...</td>\n",
       "      <td>20</td>\n",
       "      <td>20</td>\n",
       "      <td>indian</td>\n",
       "    </tr>\n",
       "    <tr>\n",
       "      <th>3</th>\n",
       "      <td>Shyam's Goat Biryani</td>\n",
       "      <td>4.5</td>\n",
       "      <td>This is an excellent homemade biryani recipe!</td>\n",
       "      <td>15</td>\n",
       "      <td>115</td>\n",
       "      <td>indian</td>\n",
       "    </tr>\n",
       "    <tr>\n",
       "      <th>4</th>\n",
       "      <td>Bombay Chicken and Rice</td>\n",
       "      <td>4.1</td>\n",
       "      <td>Chicken parts are brushed with a butter and cu...</td>\n",
       "      <td>20</td>\n",
       "      <td>60</td>\n",
       "      <td>indian</td>\n",
       "    </tr>\n",
       "  </tbody>\n",
       "</table>\n",
       "</div>"
      ],
      "text/plain": [
       "                                                name  rating  \\\n",
       "0                                  Vegetable Biryani     4.5   \n",
       "1  Curried Pork Chops and Cauliflower with Basmat...     4.4   \n",
       "2                        Slow-Cooked Chicken Biryani     4.0   \n",
       "3                               Shyam's Goat Biryani     4.5   \n",
       "4                            Bombay Chicken and Rice     4.1   \n",
       "\n",
       "                                             tagline  prep_time  cook_time  \\\n",
       "0  A very tasty and interesting biryani; the colo...         35         30   \n",
       "1  Pork chops are flavored with curry and apple c...         20         40   \n",
       "2  This slow cooker biryani is a variation of two...         20         20   \n",
       "3      This is an excellent homemade biryani recipe!         15        115   \n",
       "4  Chicken parts are brushed with a butter and cu...         20         60   \n",
       "\n",
       "  cuisine  \n",
       "0  indian  \n",
       "1  indian  \n",
       "2  indian  \n",
       "3  indian  \n",
       "4  indian  "
      ]
     },
     "execution_count": 100,
     "metadata": {},
     "output_type": "execute_result"
    }
   ],
   "source": [
    "recipes = pd.read_csv('cleaned_recipes.csv')\n",
    "recipes.head()"
   ]
  },
  {
   "cell_type": "code",
   "execution_count": 101,
   "metadata": {},
   "outputs": [
    {
     "data": {
      "text/plain": [
       "['Vegetable Biryani',\n",
       " 'Curried Pork Chops and Cauliflower with Basmati Rice',\n",
       " 'Slow-Cooked Chicken Biryani']"
      ]
     },
     "execution_count": 101,
     "metadata": {},
     "output_type": "execute_result"
    }
   ],
   "source": [
    "valid_recipes = list(recipes['name'])\n",
    "valid_recipes[:3]"
   ]
  },
  {
   "cell_type": "code",
   "execution_count": 102,
   "metadata": {},
   "outputs": [
    {
     "data": {
      "text/plain": [
       "True"
      ]
     },
     "execution_count": 102,
     "metadata": {},
     "output_type": "execute_result"
    }
   ],
   "source": [
    "#Check for invalid recipes\n",
    "any(df['recipe'].apply(lambda x:x not in valid_recipes)) \n",
    "#This means no invalid recipes"
   ]
  },
  {
   "cell_type": "code",
   "execution_count": 105,
   "metadata": {},
   "outputs": [],
   "source": [
    "def clean_unit(row):\n",
    "    unit = row['unit']\n",
    "    unit = unit.replace('(','').replace(')','').replace('can','').replace('package','')\n",
    "    unit = unit.replace('container','').replace('containers','').replace('small','')\n",
    "    unit = unit.replace('fl','').replace('oz','ounce')\n",
    "    unit = unit.replace('tablespoons','tablespoon').replace('teaspoons','teaspoon')\n",
    "    unit = unit.replace('ounces','ounce').replace('pods','pod').replace('cloves','clove')\n",
    "    unit = unit.replace('cups','cup').replace('inches','inch').replace('heads','head')\n",
    "    unit = unit.replace('cubes','cube').replace('pounds','pound').replace('uid ','')\n",
    "    unit = unit.replace('slices','slice')\n",
    "    split = unit.split(' ')\n",
    "    try:\n",
    "        qty = float(split[0])\n",
    "        unit = split[1]\n",
    "    except:\n",
    "        qty = row['qty']\n",
    "\n",
    "    return pd.Series([qty, unit])\n",
    "        \n"
   ]
  },
  {
   "cell_type": "code",
   "execution_count": null,
   "metadata": {},
   "outputs": [],
   "source": []
  },
  {
   "cell_type": "code",
   "execution_count": 107,
   "metadata": {},
   "outputs": [],
   "source": [
    "df[['qty','unit']] = df.apply(clean_unit,axis=1)"
   ]
  },
  {
   "cell_type": "code",
   "execution_count": 109,
   "metadata": {},
   "outputs": [
    {
     "data": {
      "text/plain": [
       "array(['ghee', 'cumin seeds', 'cinnamon stick', ...,\n",
       "       'refrigerated crescent roll dough', 'pizza crust mix',\n",
       "       'Ranch dressing'], dtype=object)"
      ]
     },
     "execution_count": 109,
     "metadata": {},
     "output_type": "execute_result"
    }
   ],
   "source": [
    "df['name'].unique()"
   ]
  },
  {
   "cell_type": "code",
   "execution_count": 5,
   "metadata": {},
   "outputs": [
    {
     "data": {
      "text/html": [
       "<div>\n",
       "<style scoped>\n",
       "    .dataframe tbody tr th:only-of-type {\n",
       "        vertical-align: middle;\n",
       "    }\n",
       "\n",
       "    .dataframe tbody tr th {\n",
       "        vertical-align: top;\n",
       "    }\n",
       "\n",
       "    .dataframe thead th {\n",
       "        text-align: right;\n",
       "    }\n",
       "</style>\n",
       "<table border=\"1\" class=\"dataframe\">\n",
       "  <thead>\n",
       "    <tr style=\"text-align: right;\">\n",
       "      <th></th>\n",
       "      <th>ingredient</th>\n",
       "      <th>calories</th>\n",
       "      <th>carbs</th>\n",
       "      <th>fats</th>\n",
       "      <th>protein</th>\n",
       "      <th>sugar</th>\n",
       "      <th>category</th>\n",
       "      <th>image</th>\n",
       "      <th>store_link</th>\n",
       "      <th>unit</th>\n",
       "    </tr>\n",
       "  </thead>\n",
       "  <tbody>\n",
       "    <tr>\n",
       "      <th>0</th>\n",
       "      <td>ghee</td>\n",
       "      <td>112.0</td>\n",
       "      <td>0.0</td>\n",
       "      <td>13.0</td>\n",
       "      <td>0.0</td>\n",
       "      <td>0.0</td>\n",
       "      <td>Butters</td>\n",
       "      <td>https://nix-tag-images.s3.amazonaws.com/2640_t...</td>\n",
       "      <td>https://www.amazon.com/gp/search?ie=UTF8&amp;camp=...</td>\n",
       "      <td>tbsp</td>\n",
       "    </tr>\n",
       "    <tr>\n",
       "      <th>1</th>\n",
       "      <td>cumin seeds</td>\n",
       "      <td>7.9</td>\n",
       "      <td>0.9</td>\n",
       "      <td>0.5</td>\n",
       "      <td>0.4</td>\n",
       "      <td>0.1</td>\n",
       "      <td>Dried</td>\n",
       "      <td>https://nix-tag-images.s3.amazonaws.com/2180_t...</td>\n",
       "      <td>https://www.amazon.com/gp/search?ie=UTF8&amp;camp=...</td>\n",
       "      <td>tsp</td>\n",
       "    </tr>\n",
       "    <tr>\n",
       "      <th>2</th>\n",
       "      <td>cinnamon stick</td>\n",
       "      <td>3.2</td>\n",
       "      <td>1.0</td>\n",
       "      <td>0.0</td>\n",
       "      <td>0.1</td>\n",
       "      <td>0.0</td>\n",
       "      <td>Dried</td>\n",
       "      <td>https://nix-tag-images.s3.amazonaws.com/4778_t...</td>\n",
       "      <td>https://www.amazon.com/gp/search?ie=UTF8&amp;camp=...</td>\n",
       "      <td>stick</td>\n",
       "    </tr>\n",
       "    <tr>\n",
       "      <th>3</th>\n",
       "      <td>ginger garlic paste</td>\n",
       "      <td>61.0</td>\n",
       "      <td>3.2</td>\n",
       "      <td>5.4</td>\n",
       "      <td>0.5</td>\n",
       "      <td>0.2</td>\n",
       "      <td>Seasoning</td>\n",
       "      <td>https://d2eawub7utcl6.cloudfront.net/images/ni...</td>\n",
       "      <td>https://www.amazon.com/gp/search?ie=UTF8&amp;camp=...</td>\n",
       "      <td>tbsp</td>\n",
       "    </tr>\n",
       "    <tr>\n",
       "      <th>4</th>\n",
       "      <td>water</td>\n",
       "      <td>0.0</td>\n",
       "      <td>0.0</td>\n",
       "      <td>0.0</td>\n",
       "      <td>0.0</td>\n",
       "      <td>0.0</td>\n",
       "      <td>Still</td>\n",
       "      <td>https://nix-tag-images.s3.amazonaws.com/4483_t...</td>\n",
       "      <td>https://www.amazon.com/gp/search?ie=UTF8&amp;camp=...</td>\n",
       "      <td>serving</td>\n",
       "    </tr>\n",
       "  </tbody>\n",
       "</table>\n",
       "</div>"
      ],
      "text/plain": [
       "            ingredient  calories  carbs  fats  protein  sugar   category  \\\n",
       "0                 ghee     112.0    0.0  13.0      0.0    0.0    Butters   \n",
       "1          cumin seeds       7.9    0.9   0.5      0.4    0.1      Dried   \n",
       "2       cinnamon stick       3.2    1.0   0.0      0.1    0.0      Dried   \n",
       "3  ginger garlic paste      61.0    3.2   5.4      0.5    0.2  Seasoning   \n",
       "4                water       0.0    0.0   0.0      0.0    0.0      Still   \n",
       "\n",
       "                                               image  \\\n",
       "0  https://nix-tag-images.s3.amazonaws.com/2640_t...   \n",
       "1  https://nix-tag-images.s3.amazonaws.com/2180_t...   \n",
       "2  https://nix-tag-images.s3.amazonaws.com/4778_t...   \n",
       "3  https://d2eawub7utcl6.cloudfront.net/images/ni...   \n",
       "4  https://nix-tag-images.s3.amazonaws.com/4483_t...   \n",
       "\n",
       "                                          store_link     unit  \n",
       "0  https://www.amazon.com/gp/search?ie=UTF8&camp=...     tbsp  \n",
       "1  https://www.amazon.com/gp/search?ie=UTF8&camp=...      tsp  \n",
       "2  https://www.amazon.com/gp/search?ie=UTF8&camp=...    stick  \n",
       "3  https://www.amazon.com/gp/search?ie=UTF8&camp=...     tbsp  \n",
       "4  https://www.amazon.com/gp/search?ie=UTF8&camp=...  serving  "
      ]
     },
     "execution_count": 5,
     "metadata": {},
     "output_type": "execute_result"
    }
   ],
   "source": [
    "ings = pd.read_csv('ingredients_list.csv')\n",
    "ings.head()"
   ]
  },
  {
   "cell_type": "code",
   "execution_count": null,
   "metadata": {},
   "outputs": [],
   "source": []
  }
 ],
 "metadata": {
  "kernelspec": {
   "display_name": "Python 3",
   "language": "python",
   "name": "python3"
  },
  "language_info": {
   "codemirror_mode": {
    "name": "ipython",
    "version": 3
   },
   "file_extension": ".py",
   "mimetype": "text/x-python",
   "name": "python",
   "nbconvert_exporter": "python",
   "pygments_lexer": "ipython3",
   "version": "3.11.1"
  },
  "orig_nbformat": 4,
  "vscode": {
   "interpreter": {
    "hash": "aee8b7b246df8f9039afb4144a1f6fd8d2ca17a180786b69acc140d282b71a49"
   }
  }
 },
 "nbformat": 4,
 "nbformat_minor": 2
}
